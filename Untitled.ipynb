{
 "cells": [
  {
   "cell_type": "code",
   "execution_count": null,
   "id": "58794435",
   "metadata": {},
   "outputs": [
    {
     "ename": "",
     "evalue": "",
     "output_type": "error",
     "traceback": [
      "\u001b[1;31mRunning cells with 'c:\\Program Files\\Python39\\python.exe' requires the ipykernel package.\n",
      "\u001b[1;31mRun the following command to install 'ipykernel' into the Python environment. \n",
      "\u001b[1;31mCommand: '\"c:/Program Files/Python39/python.exe\" -m pip install ipykernel -U --user --force-reinstall'"
     ]
    }
   ],
   "source": [
    "# import the time module\n",
    "import time\n",
    "\n",
    "# define the countdown func.\n",
    "def countdown(t):\n",
    "\t\n",
    "\twhile t:\n",
    "\t\tmins, secs = divmod(t, 60)\n",
    "\t\ttimer = '{:02d}:{:02d}'.format(mins, secs)\n",
    "\t\tprint(timer, end=\"\\r\")\n",
    "\t\ttime.sleep(1)\n",
    "\t\tt -= 1\n",
    "\t\n",
    "\tprint('Fire in the hole!!')\n",
    "\n",
    "\n",
    "# input time in seconds\n",
    "t = input(\"Enter the time in seconds: \")\n",
    "\n",
    "# function call\n",
    "countdown(int(t))\n"
   ]
  },
  {
   "cell_type": "code",
   "execution_count": null,
   "id": "87470aa6",
   "metadata": {},
   "outputs": [
    {
     "ename": "",
     "evalue": "",
     "output_type": "error",
     "traceback": [
      "\u001b[1;31mRunning cells with 'c:\\Program Files\\Python39\\python.exe' requires the ipykernel package.\n",
      "\u001b[1;31mRun the following command to install 'ipykernel' into the Python environment. \n",
      "\u001b[1;31mCommand: '\"c:/Program Files/Python39/python.exe\" -m pip install ipykernel -U --user --force-reinstall'"
     ]
    }
   ],
   "source": [
    "import time\n",
    "\n",
    "def countdown(time_sec):\n",
    "    while time_sec:\n",
    "        mins, secs = divmod(time_sec, 60)\n",
    "        timeformat = '{:02d}:{:02d}'.format(mins, secs)\n",
    "        print(timeformat, end='\\r')\n",
    "        time.sleep(1)\n",
    "        time_sec -= 1\n",
    "\n",
    "    print(\"stop\\n\")\n",
    "\n",
    "countdown(5)"
   ]
  },
  {
   "cell_type": "code",
   "execution_count": null,
   "id": "55aa05e3",
   "metadata": {
    "scrolled": true
   },
   "outputs": [
    {
     "ename": "",
     "evalue": "",
     "output_type": "error",
     "traceback": [
      "\u001b[1;31mRunning cells with 'c:\\Program Files\\Python39\\python.exe' requires the ipykernel package.\n",
      "\u001b[1;31mRun the following command to install 'ipykernel' into the Python environment. \n",
      "\u001b[1;31mCommand: '\"c:/Program Files/Python39/python.exe\" -m pip install ipykernel -U --user --force-reinstall'"
     ]
    }
   ],
   "source": [
    "\n",
    "# Import all files from\n",
    "# tkinter and overwrite\n",
    "# all the tkinter files\n",
    "# by tkinter.ttk\n",
    "from tkinter import *\n",
    "from tkinter.ttk import *\n",
    " \n",
    "# creates tkinter window or root window\n",
    "root = Tk()\n",
    "root.geometry('200x100')\n",
    " \n",
    "# function to be called when mouse enters in a frame\n",
    "def enter(event):\n",
    "    print('Button-2 pressed at x = % d, y = % d'%(event.x, event.y))\n",
    " \n",
    "# function to be called when mouse exits the frame\n",
    "def exit_(event):\n",
    "    print('Button-3 pressed at x = % d, y = % d'%(event.x, event.y))\n",
    " \n",
    "# frame with fixed geometry\n",
    "frame1 = Frame(root, height = 100, width = 200)\n",
    " \n",
    "# these lines are showing the\n",
    "# working of bind function\n",
    "# it is universal widget method\n",
    "frame1.bind('<Enter>', enter)\n",
    "frame1.bind('<Leave>', exit_)\n",
    " \n",
    "frame1.pack()\n",
    " \n",
    "mainloop()"
   ]
  },
  {
   "cell_type": "code",
   "execution_count": null,
   "id": "b6518704",
   "metadata": {},
   "outputs": [
    {
     "ename": "",
     "evalue": "",
     "output_type": "error",
     "traceback": [
      "\u001b[1;31mRunning cells with 'c:\\Program Files\\Python39\\python.exe' requires the ipykernel package.\n",
      "\u001b[1;31mRun the following command to install 'ipykernel' into the Python environment. \n",
      "\u001b[1;31mCommand: '\"c:/Program Files/Python39/python.exe\" -m pip install ipykernel -U --user --force-reinstall'"
     ]
    }
   ],
   "source": []
  }
 ],
 "metadata": {
  "kernelspec": {
   "display_name": "Python 3 (ipykernel)",
   "language": "python",
   "name": "python3"
  },
  "language_info": {
   "codemirror_mode": {
    "name": "ipython",
    "version": 3
   },
   "file_extension": ".py",
   "mimetype": "text/x-python",
   "name": "python",
   "nbconvert_exporter": "python",
   "pygments_lexer": "ipython3",
   "version": "3.9.6"
  }
 },
 "nbformat": 4,
 "nbformat_minor": 5
}
